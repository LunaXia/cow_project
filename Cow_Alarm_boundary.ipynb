{
 "cells": [
  {
   "cell_type": "code",
   "execution_count": 35,
   "metadata": {},
   "outputs": [],
   "source": [
    "import numpy as np\n",
    "import csv\n",
    "from matplotlib import pyplot as plt\n",
    "from matplotlib.colors import ListedColormap"
   ]
  },
  {
   "cell_type": "code",
   "execution_count": 36,
   "metadata": {},
   "outputs": [],
   "source": [
    "# import models\n",
    "from xgboost import XGBClassifier, XGBRegressor\n",
    "from sklearn.svm import SVC\n",
    "from sklearn.gaussian_process import GaussianProcessClassifier\n",
    "from sklearn.gaussian_process.kernels import RBF\n",
    "from sklearn.tree import DecisionTreeClassifier\n",
    "from sklearn.ensemble import RandomForestClassifier, AdaBoostClassifier\n",
    "from sklearn.naive_bayes import GaussianNB"
   ]
  },
  {
   "cell_type": "code",
   "execution_count": 37,
   "metadata": {},
   "outputs": [],
   "source": [
    "# import metrics, other utilities\n",
    "from sklearn.preprocessing import StandardScaler\n",
    "from sklearn.model_selection import GridSearchCV\n",
    "from sklearn.model_selection import StratifiedKFold\n",
    "from sklearn.model_selection import train_test_split\n",
    "from sklearn.metrics import accuracy_score, average_precision_score,  mean_squared_error, confusion_matrix, r2_score\n",
    "from sklearn.metrics import roc_curve, auc, precision_recall_curve\n",
    "from sklearn.discriminant_analysis import QuadraticDiscriminantAnalysis\n",
    "from sklearn.model_selection import GridSearchCV\n",
    "from sklearn.model_selection import StratifiedKFold\n",
    "\n",
    "from imblearn.over_sampling import RandomOverSampler"
   ]
  },
  {
   "cell_type": "code",
   "execution_count": 42,
   "metadata": {},
   "outputs": [],
   "source": [
    "# load data\n",
    "# notice the windows size of feature points\n",
    "reader = csv.reader(open('Calve_gpr_win_12_core.csv', \"r\"), delimiter=\",\")\n",
    "data = list(reader)\n",
    "dataset = [np.array([float(x) if x != '' else 1e6 for x in y]) for y in data]\n",
    "dataset = np.array(dataset)\n",
    "\n",
    "feature_dim = [0, 96]\n",
    "label_dim = [96]\n",
    "\n",
    "# split raw data into features X and labels y\n",
    "X = dataset[0:2000, feature_dim[0]: feature_dim[1]]\n",
    "Y = dataset[0:2000, label_dim[0]]"
   ]
  },
  {
   "cell_type": "code",
   "execution_count": 43,
   "metadata": {},
   "outputs": [
    {
     "name": "stdout",
     "output_type": "stream",
     "text": [
      "Number of Y=1:\n",
      " 57\n"
     ]
    }
   ],
   "source": [
    "# Set alarm period, notice that alarm hours = alarm period * 2\n",
    "Alarm_period = 2\n",
    "# Reassign labels according to alarm period\n",
    "Y = [0 if x > Alarm_period else 1 for x in Y]\n",
    "Y = np.array(Y)\n",
    "\n",
    "# Show number of label=1\n",
    "print(\"Number of Y=1:\\n\", sum(Y))\n",
    "\n",
    "# Preprocess the data\n",
    "X = StandardScaler().fit_transform(X)"
   ]
  },
  {
   "cell_type": "code",
   "execution_count": 44,
   "metadata": {},
   "outputs": [
    {
     "name": "stdout",
     "output_type": "stream",
     "text": [
      "Number of Y=1:\n",
      " 1943\n"
     ]
    }
   ],
   "source": [
    "# Handle the imbalanced labels of data\n",
    "# Oversampling for data with minority label\n",
    "ros = RandomOverSampler()\n",
    "X_resampled, Y_resampled = ros.fit_sample(X, Y)\n",
    "\n",
    "# Show new number of label=1\n",
    "print(\"Number of Y=1:\\n\", sum(Y_resampled))"
   ]
  },
  {
   "cell_type": "code",
   "execution_count": 45,
   "metadata": {},
   "outputs": [],
   "source": [
    "# split features for train and test sets\n",
    "seed = 7\n",
    "test_size = 0.2\n",
    "X_train, X_test, y_train, y_test = train_test_split(X_resampled, Y_resampled,\n",
    "                                                    test_size=test_size,\n",
    "                                                    random_state=seed)"
   ]
  },
  {
   "cell_type": "code",
   "execution_count": 46,
   "metadata": {},
   "outputs": [
    {
     "data": {
      "text/plain": [
       "(389, 96)"
      ]
     },
     "execution_count": 46,
     "metadata": {},
     "output_type": "execute_result"
    }
   ],
   "source": [
    "# Grid Search of parameters\n",
    "# Set a smaller search set\n",
    "\n",
    "\n",
    "search_size = 0.1\n",
    "X_, X_search, y_, y_search = train_test_split(X_resampled, Y_resampled,\n",
    "                                             test_size = search_size,\n",
    "                                             random_state=seed)\n",
    "\n",
    "X_search.shape"
   ]
  },
  {
   "cell_type": "code",
   "execution_count": 47,
   "metadata": {},
   "outputs": [
    {
     "name": "stdout",
     "output_type": "stream",
     "text": [
      "Best: 0.875856 using {'C': 25.0}\n"
     ]
    }
   ],
   "source": [
    "# Start searching\n",
    "model = SVC(kernel=\"linear\")\n",
    "# grid search\n",
    "C_ = [0.025, 0.25, 2.5, 25., 250.]\n",
    "param_grid = dict(C=C_)\n",
    "kfold = StratifiedKFold(n_splits=10, shuffle=True, random_state=7)\n",
    "grid_search = GridSearchCV(model, param_grid, scoring=\"f1\", n_jobs=-1, cv=kfold)\n",
    "grid_result = grid_search.fit(X_search, y_search)\n",
    "\n",
    "print(\"Best: %f using %s\" % (grid_result.best_score_, grid_result.best_params_))"
   ]
  },
  {
   "cell_type": "code",
   "execution_count": 48,
   "metadata": {},
   "outputs": [],
   "source": [
    "# Initiate Models with parameters\n",
    "\n",
    "names = [\"Linear SVM\", \"RBF SVM\", \"Gaussian Process\",\n",
    "         \"Decision Tree\",\n",
    "         \"Naive Bayes\", \"XGBoost\"]\n",
    "\n",
    "classifiers = [\n",
    "    SVC(kernel=\"linear\", C=0.025),\n",
    "    SVC(gamma=2, C=1),\n",
    "    GaussianProcessClassifier(1.0 * RBF(1.0)),\n",
    "    DecisionTreeClassifier(max_depth=5),\n",
    "    GaussianNB(), \n",
    "    XGBClassifier()]"
   ]
  },
  {
   "cell_type": "code",
   "execution_count": 49,
   "metadata": {},
   "outputs": [
    {
     "name": "stdout",
     "output_type": "stream",
     "text": [
      "Linear SVM MSE: 0.0938 \n",
      "\n",
      "FN rate is: 0.11 \n",
      "\n",
      "TP rate is: 0.92 \n",
      "\n",
      "[[362  44]\n",
      " [ 29 343]]\n",
      "RBF SVM MSE: 0.0 \n",
      "\n",
      "FN rate is: 0.0 \n",
      "\n",
      "TP rate is: 1.0 \n",
      "\n",
      "[[406   0]\n",
      " [  0 372]]\n",
      "Gaussian Process MSE: 0.0051 \n",
      "\n",
      "FN rate is: 0.01 \n",
      "\n",
      "TP rate is: 1.0 \n",
      "\n",
      "[[402   4]\n",
      " [  0 372]]\n",
      "Decision Tree MSE: 0.0578 \n",
      "\n",
      "FN rate is: 0.11 \n",
      "\n",
      "TP rate is: 1.0 \n",
      "\n",
      "[[361  45]\n",
      " [  0 372]]\n",
      "Naive Bayes MSE: 0.2121 \n",
      "\n",
      "FN rate is: 0.26 \n",
      "\n",
      "TP rate is: 0.86 \n",
      "\n",
      "[[293 113]\n",
      " [ 52 320]]\n",
      "XGBoost MSE: 0.0064 \n",
      "\n",
      "FN rate is: 0.01 \n",
      "\n",
      "TP rate is: 1.0 \n",
      "\n",
      "[[401   5]\n",
      " [  0 372]]\n"
     ]
    },
    {
     "name": "stderr",
     "output_type": "stream",
     "text": [
      "/home/ly332/anaconda3/envs/xgboost/lib/python3.6/site-packages/sklearn/preprocessing/label.py:151: DeprecationWarning: The truth value of an empty array is ambiguous. Returning False, but in future this will result in an error. Use `array.size > 0` to check that an array is not empty.\n",
      "  if diff:\n"
     ]
    }
   ],
   "source": [
    "# iterate over models\n",
    "for name, clf in zip(names, classifiers):\n",
    "    clf.fit(X_train, y_train)\n",
    "\n",
    "    y_pred = clf.predict(X_test)\n",
    "\n",
    "    # count true positive/false negative/true negative/false potivie\n",
    "    result = confusion_matrix(y_test, y_pred)\n",
    "    FN_r = round(result[0,1]/ (result[0,1] + result[1,1]), 2)\n",
    "    TP_r = round(result[1,1]/ (result[1,1] + result[1,0]), 2)\n",
    "\n",
    "    print(name,'MSE: %s' % round(mean_squared_error(y_test, y_pred),4), '\\n')\n",
    "    print(\"FN rate is:\", FN_r, '\\n')\n",
    "    print(\"TP rate is:\", TP_r, '\\n')\n",
    "    print(result)"
   ]
  }
 ],
 "metadata": {
  "kernelspec": {
   "display_name": "Python 3",
   "language": "python",
   "name": "python3"
  },
  "language_info": {
   "codemirror_mode": {
    "name": "ipython",
    "version": 3
   },
   "file_extension": ".py",
   "mimetype": "text/x-python",
   "name": "python",
   "nbconvert_exporter": "python",
   "pygments_lexer": "ipython3",
   "version": "3.6.4"
  }
 },
 "nbformat": 4,
 "nbformat_minor": 2
}
